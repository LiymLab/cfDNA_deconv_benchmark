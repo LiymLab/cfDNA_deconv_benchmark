{
 "cells": [
  {
   "cell_type": "code",
   "execution_count": null,
   "metadata": {},
   "outputs": [],
   "source": [
    "# Commence with running ref_atlas_select.py script, which generates MethAtlas's Reference Methylation Atlas for each distinct depth filter level.\n",
    "# Next, proceed to execute gen_mixture.py script, thereby creating FullAtlas.csv files tailored for every individual depth filtering condition.\n",
    "# Execute MethAtlas_deconv.ipynb script to perform the deconv step."
   ]
  },
  {
   "cell_type": "code",
   "execution_count": null,
   "metadata": {},
   "outputs": [],
   "source": [
    "# Run uniform distribution deconv\n",
    "import subprocess\n",
    "import numpy as np\n",
    "\n",
    "median_range = [15]\n",
    "\n",
    "for median_value in median_range:\n",
    "    command = f\"python /Deconvolution/MethAtlas/MethAtlas_deconv.py -a /cfDNA_benchmark/meth_atlas_data/ref_median_{median_value}/ref_depth_{median_value}_unique.csv /cfDNA_benchmark/meth_atlas_data/uniform/ref_median_15/full_atlas.csv -o /cfDNA_benchmark/meth_atlas_data/result_{median_value}\"\n",
    "    subprocess.run(command, shell=True)\n"
   ]
  },
  {
   "cell_type": "code",
   "execution_count": null,
   "metadata": {},
   "outputs": [],
   "source": [
    "# Run crd deconv\n",
    "import subprocess\n",
    "import numpy as np\n",
    "\n",
    "median_range = [15]\n",
    "\n",
    "for median_value in median_range:\n",
    "    command = f\"python /Deconvolution/MethAtlas/MethAtlas_deconv.py -a /cfDNA_benchmark/meth_atlas_data/ref_median_{median_value}/ref_depth_{median_value}_unique.csv /cfDNA_benchmark/meth_atlas_data/crd_dis/crd_mix/ref_median_15/full_atlas.csv -o /cfDNA_benchmark/meth_atlas_data/crd_dis/result_{median_value}\"\n",
    "    subprocess.run(command, shell=True)\n"
   ]
  }
 ],
 "metadata": {
  "language_info": {
   "name": "python"
  }
 },
 "nbformat": 4,
 "nbformat_minor": 2
}
