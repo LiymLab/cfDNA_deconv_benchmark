{
 "cells": [
  {
   "cell_type": "code",
   "execution_count": null,
   "metadata": {},
   "outputs": [],
   "source": [
    "# Commence with running ref_atlas_select.py script, which generates MethAtlas's Reference Methylation Atlas for each distinct depth filter level.\n",
    "# Next, proceed to execute gen_mixture.py script, thereby creating FullAtlas.csv files tailored for every individual depth filtering condition.\n",
    "# Execute meth_atlas/deconvolve.py script to perform the deconv step."
   ]
  },
  {
   "cell_type": "code",
   "execution_count": null,
   "metadata": {},
   "outputs": [],
   "source": [
    "#   Specific execution steps and relevant parameter suggestions can be found at \n",
    "#   https://github.com/nloyfer/meth_atlas/tree/master\n",
    "#   https://github.com/nloyfer/meth_atlas/blob/master/deconvolve.py"
   ]
  }
 ],
 "metadata": {
  "language_info": {
   "name": "python"
  }
 },
 "nbformat": 4,
 "nbformat_minor": 2
}
