{
 "cells": [
  {
   "cell_type": "code",
   "execution_count": null,
   "id": "08f2b3de-bd7f-4832-9986-0ed46981c073",
   "metadata": {},
   "outputs": [],
   "source": [
    "# Run uniform distribution deconv\n",
    "import subprocess\n",
    "import numpy as np\n",
    "\n",
    "median_range = np.concatenate([np.arange(15, 51, 5), np.arange(60, 101, 10)])\n",
    "\n",
    "for median_value in median_range:\n",
    "    command = f\"python /home/sty/meth_atlas/deconvolve.py -a /home/sty/cfDNA_benchmark/meth_atlas_data/ref_median_{median_value}/ref_depth_{median_value}_unique.csv /home/sty/cfDNA_benchmark/meth_atlas_data/uniform/ref_median_{i}/full_atlas.csv -o /home/sty/cfDNA_benchmark/meth_atlas_data/result_{median_value}\"\n",
    "    subprocess.run(command, shell=True)\n"
   ]
  },
  {
   "cell_type": "code",
   "execution_count": null,
   "id": "5b7aa208-aa6c-4376-a3b1-1501ff564ff7",
   "metadata": {},
   "outputs": [],
   "source": [
    "# Run crd deconv\n",
    "import subprocess\n",
    "import numpy as np\n",
    "\n",
    "median_range = np.concatenate([np.arange(15, 51, 5), np.arange(60, 101, 10)])\n",
    "\n",
    "for median_value in median_range:\n",
    "    command = f\"python /home/sty/meth_atlas/deconvolve.py -a /home/sty/cfDNA_benchmark/meth_atlas_data/ref_median_{median_value}/ref_depth_{median_value}_unique.csv /home/sty/cfDNA_benchmark/meth_atlas_data/crd_dis/crd_mix/ref_median_{i}/full_atlas.csv -o /home/sty/cfDNA_benchmark/meth_atlas_data/crd_dis/result_{median_value}\"\n",
    "    subprocess.run(command, shell=True)\n"
   ]
  }
 ],
 "metadata": {
  "kernelspec": {
   "display_name": "Python 3 (ipykernel)",
   "language": "python",
   "name": "python3"
  },
  "language_info": {
   "codemirror_mode": {
    "name": "ipython",
    "version": 3
   },
   "file_extension": ".py",
   "mimetype": "text/x-python",
   "name": "python",
   "nbconvert_exporter": "python",
   "pygments_lexer": "ipython3",
   "version": "3.10.11"
  }
 },
 "nbformat": 4,
 "nbformat_minor": 5
}
