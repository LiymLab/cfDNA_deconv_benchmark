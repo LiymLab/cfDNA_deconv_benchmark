{
 "cells": [
  {
   "cell_type": "code",
   "execution_count": null,
   "id": "337a3e48-dd6f-4c36-bca4-ec13703fc23f",
   "metadata": {
    "tags": []
   },
   "outputs": [],
   "source": [
    "# Generate refs and mixtures\n",
    "import pandas as pd\n",
    "import os\n",
    "\n",
    "median_range = [15]\n",
    "sub_range = [1, 5, 10, 15]\n",
    "distribution = [\"crd_dis\", \"uniform_dis\", \"dirichlet_dis\"]\n",
    "\n",
    "df = pd.read_table(\"~/bed_hg38/bed_hg38.bed\", header=None)\n",
    "df.columns = [\"chrom\", \"start\", \"end\", \"cpg_idx\"]\n",
    "for dist in distribution:\n",
    "\n",
    "    for median_value in median_range:\n",
    "\n",
    "        csv_file = f\"/cfDNA_benchmark/cfNOMe_data/{dist}/ref_median_{median_value}/full_atlas_crd_median_{median_value}.csv\"\n",
    "\n",
    "        csv_df = pd.read_csv(csv_file)\n",
    "        tmp_df = df.copy()\n",
    "\n",
    "        csv_cpg_idx = set(csv_df[\"cpg_idx\"])\n",
    "        tmp_df = tmp_df[tmp_df[\"cpg_idx\"].isin(csv_cpg_idx)]\n",
    "        merged_df = pd.merge(tmp_df, csv_df, on=\"cpg_idx\")\n",
    "        merged_df = pd.merge(df, csv_df, on=\"cpg_idx\")\n",
    "        merged_df = merged_df[[\"chrom\", \"start\", \"end\"] + csv_df.columns.tolist()]\n",
    "        out_file = (\n",
    "            f\"ref_median_{median_value}/{dist}/full_atlas_crd_median_{median_value}.bed\"\n",
    "        )\n",
    "        merged_df.to_csv(out_file, index=False)\n",
    "\n",
    "    for median_value in median_range:\n",
    "        csv_file = f\"/cfDNA_benchmark/cfNOMe_data/{dist}/ref_median_{median_value}/reference_overlapped_midean_{median_value}_unique.csv\"\n",
    "        csv_df = pd.read_csv(csv_file)\n",
    "        tmp_df = df.copy()\n",
    "        csv_cpg_idx = set(csv_df[\"cpg_idx\"])\n",
    "        tmp_df = tmp_df[tmp_df[\"cpg_idx\"].isin(csv_cpg_idx)]\n",
    "        merged_df = pd.merge(tmp_df, csv_df, on=\"cpg_idx\")\n",
    "        merged_df = pd.merge(df, csv_df, on=\"cpg_idx\")\n",
    "        merged_df = merged_df[[\"chrom\", \"start\", \"end\"] + csv_df.columns.tolist()]\n",
    "        out_file = f\"/cfDNA_benchmark/cfNOMe_data/{dist}/ref_median_{median_value}/reference_overlapped_midean_{median_value}_unique.bed\"\n",
    "        merged_df.to_csv(out_file, sep=\"\\t\", index=False)\n",
    "\n",
    "    for median_value in median_range:\n",
    "\n",
    "        median_dir = f\"/{dist}/ref_median_{median_value}\"\n",
    "\n",
    "        df = pd.read_csv(\n",
    "            os.path.join(median_dir, f\"full_atlas_crd_median_{median_value}.bed\")\n",
    "        )\n",
    "\n",
    "        crd_cols = [col for col in df.columns if col.startswith(\"crd_\")]\n",
    "\n",
    "        for col in crd_cols:\n",
    "\n",
    "            new_df = df[[\"chrom\", \"start\", \"end\", \"cpg_idx\", col]]\n",
    "            col_name = col.split(\"_\")[1]\n",
    "            out_path = os.path.join(median_dir, f\"crd_{col_name}_1.bed\")\n",
    "            new_df.to_csv(out_path, sep=\"\\t\", index=False, header=False)"
   ]
  }
 ],
 "metadata": {
  "kernelspec": {
   "display_name": "Python 3 (ipykernel)",
   "language": "python",
   "name": "python3"
  },
  "language_info": {
   "codemirror_mode": {
    "name": "ipython",
    "version": 3
   },
   "file_extension": ".py",
   "mimetype": "text/x-python",
   "name": "python",
   "nbconvert_exporter": "python",
   "pygments_lexer": "ipython3",
   "version": "3.10.11"
  }
 },
 "nbformat": 4,
 "nbformat_minor": 5
}
