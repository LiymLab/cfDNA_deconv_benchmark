{
 "cells": [
  {
   "cell_type": "code",
   "execution_count": 1,
   "id": "f00db2c1-480f-4711-b7df-27ee19600c34",
   "metadata": {
    "tags": []
   },
   "outputs": [],
   "source": [
    "import pandas as pd\n",
    "import numpy as np\n",
    "\n",
    "one_ct = ['Blood-NK','Blood-Granul','Blood-Mono+Macro','Blood-B','Blood-T']\n",
    "\n",
    "#drop cell type:\n",
    "median_range = [15]\n",
    "for median in median_range:    \n",
    "    df = pd.read_csv(f'/cfDNA_benchmark/cfNOMe_data/crd_dis/ref_median_15/reference_overlapped_midean_{median}_unique.bed',sep='\\t')\n",
    "    for cell in one_ct:\n",
    "        df_drop = df.drop(columns=[f'{cell}']) \n",
    "        df_drop.to_csv(f'/cfDNA_benchmark/cfNOMe_data/crd_dis/ref_median_15/drop_blood_ct/ref_drop_{median}_{cell}.bed', index=False,sep='\\t')\n",
    "   "
   ]
  },
  {
   "cell_type": "code",
   "execution_count": 10,
   "id": "73b44bf5-1a2d-476f-af99-ffb352fa4809",
   "metadata": {},
   "outputs": [],
   "source": [
    "import pandas as pd\n",
    "import numpy as np\n",
    "two_ct=[['Blood-NK', 'Lung-Ep-Alveo'],['Blood-Granul', 'Colon-Fibro'],['Blood-Mono+Macro', 'Bladder-Ep'],['Blood-B', 'Oligodend'],['Blood-T', 'Skeletal-Musc']]\n",
    "\n",
    "median_range = [15]\n",
    "for median in median_range:    \n",
    "    df = pd.read_csv(f'/cfDNA_benchmark/cfNOMe_data/crd_dis/ref_median_15/reference_overlapped_midean_{median}_unique.bed',sep='\\t')\n",
    "    for cells in two_ct:\n",
    "        df_drop = df.drop(columns=cells) \n",
    "        df_drop.to_csv(f'/cfDNA_benchmark/cfNOMe_data/crd_dis/ref_median_15/drop_blood_ct/ref_drop_{median}_{cells[0]}_{cells[1]}.bed', index=False,sep='\\t')\n"
   ]
  }
 ],
 "metadata": {
  "kernelspec": {
   "display_name": "Python 3 (ipykernel)",
   "language": "python",
   "name": "python3"
  },
  "language_info": {
   "codemirror_mode": {
    "name": "ipython",
    "version": 3
   },
   "file_extension": ".py",
   "mimetype": "text/x-python",
   "name": "python",
   "nbconvert_exporter": "python",
   "pygments_lexer": "ipython3",
   "version": "3.10.11"
  }
 },
 "nbformat": 4,
 "nbformat_minor": 5
}
