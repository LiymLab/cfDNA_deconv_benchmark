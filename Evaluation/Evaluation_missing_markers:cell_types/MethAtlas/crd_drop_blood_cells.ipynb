{
 "cells": [
  {
   "cell_type": "code",
   "execution_count": null,
   "id": "c8bbf094-3168-4e9d-9c31-5ab2c398fa38",
   "metadata": {},
   "outputs": [],
   "source": [
    "one_ct = ['Blood-NK','Blood-Granul','Blood-Mono+Macro','Blood-B','Blood-T']\n",
    "\n",
    "two_ct = [['Blood-NK', 'Lung-Ep-Alveo'], ['Blood-Granul', 'Colon-Fibro'],\n",
    "         ['Blood-Mono+Macro', 'Bladder-Ep'], ['Blood-B', 'Oligodend'], \n",
    "                                        ['Blood-T', 'Skeletal-Musc']]"
   ]
  },
  {
   "cell_type": "code",
   "execution_count": 1,
   "id": "25249208-8786-4671-ad74-0b5c26762a39",
   "metadata": {
    "tags": []
   },
   "outputs": [],
   "source": [
    "import pandas as pd\n",
    "import numpy as np\n",
    "\n",
    "\n",
    "median_range = [15]\n",
    "for median in median_range:    \n",
    "    df = pd.read_csv(f'/cfDNA_benchmark/meth_atlas_data/ref_median_{median}/ref_depth_{median}_unique.csv')\n",
    "    for cell in one_ct:\n",
    "        df_drop = df.drop(columns=[f'{cell}']) \n",
    "        df_drop.to_csv(f'/cfDNA_benchmark/meth_atlas_data/ref_median_15/drop_blood_ct/ref_drop_{median}_{cell}.csv', index=False)"
   ]
  },
  {
   "cell_type": "code",
   "execution_count": 3,
   "id": "dec9f5da-e1e6-4551-94eb-086556888be8",
   "metadata": {
    "tags": []
   },
   "outputs": [],
   "source": [
    "import pandas as pd\n",
    "import numpy as np\n",
    "\n",
    "median_range = [15]\n",
    "for median in median_range:    \n",
    "    df = pd.read_csv(f'/cfDNA_benchmark/meth_atlas_data/ref_median_{median}/ref_depth_{median}_unique.csv')\n",
    "    for cells in two_ct:\n",
    "        df_drop = df.drop(columns=cells) \n",
    "        df_drop.to_csv(f'/cfDNA_benchmark/meth_atlas_data/ref_median_{median}/drop_blood_ct/ref_drop_{median}_{cells[0]}_{cells[1]}.csv', index=False)"
   ]
  },
  {
   "cell_type": "code",
   "execution_count": 2,
   "id": "b1e95745-5200-4a37-9142-d1f6bb3c50c5",
   "metadata": {
    "tags": []
   },
   "outputs": [],
   "source": [
    "import pandas as pd\n",
    "import os\n",
    "\n",
    "df = pd.read_csv('/cfDNA_benchmark/meth_atlas_data/crd_dis/crd_mix/full_atlas_crd_median_15.csv')\n",
    "\n",
    "ref_median_dir = f'/cfDNA_benchmark/meth_atlas_data/ref_median_15/drop_blood_ct'\n",
    "for bed_file in os.listdir(ref_median_dir):\n",
    "    if bed_file.endswith('.csv'):\n",
    "        name = bed_file.split('.')[0]\n",
    "        df.to_csv(f'/cfDNA_benchmark/meth_atlas_data/crd_dis/crd_mix/drop_blood_ct/{name}_crd_median_15.csv',index = False)    "
   ]
  },
  {
   "cell_type": "code",
   "execution_count": null,
   "id": "346031ec-5524-4020-930a-98bcf5d8f764",
   "metadata": {
    "tags": []
   },
   "outputs": [],
   "source": [
    "from concurrent.futures import ThreadPoolExecutor\n",
    "import subprocess\n",
    "import numpy as np\n",
    "import os\n",
    "\n",
    "median_range = [15]\n",
    "\n",
    "def run_cmd(cmd):\n",
    "  subprocess.run(cmd, shell=True)\n",
    "  \n",
    "with ThreadPoolExecutor(max_workers=5) as executor:\n",
    "\n",
    "    for median in median_range:\n",
    "        ref_median_dir = f'/cfDNA_benchmark/meth_atlas_data/ref_median_{median}/drop_blood_ct'\n",
    "        for bed_file in os.listdir(ref_median_dir):\n",
    "\n",
    "            if bed_file.endswith('.csv'):\n",
    "                bed_path = os.path.join(ref_median_dir, bed_file)\n",
    "                name = bed_file.split('.')[0]\n",
    "                cmd = f\"python /MethAtlas_deconv.py -a {bed_path} /cfDNA_benchmark/meth_atlas_data/crd_dis/crd_mix/drop_blood_ct/{name}_crd_median_15.csv -o /cfDNA_benchmark/meth_atlas_data/crd_dis/result/drop_blood_ct\"\n",
    "                executor.submit(run_cmd, cmd)    "
   ]
  },
  {
   "cell_type": "code",
   "execution_count": null,
   "id": "fcefc00a-a709-4d10-a113-35e23c0ced19",
   "metadata": {},
   "outputs": [],
   "source": [
    "\n",
    "for median_value in median_range:\n",
    "    file_path = f'/cfDNA_benchmark/meth_atlas_data/crd_dis/result/full_atlas_crd_median_{median_value}_deconv_output.csv'  \n",
    "    df = pd.read_csv(file_path)\n",
    "    df_sorted = df.sort_values(df.columns[0])\n",
    "    df_sorted.to_csv(file_path, index=False)\n",
    "    del df, df_sorted"
   ]
  }
 ],
 "metadata": {
  "kernelspec": {
   "display_name": "Python 3 (ipykernel)",
   "language": "python",
   "name": "python3"
  },
  "language_info": {
   "codemirror_mode": {
    "name": "ipython",
    "version": 3
   },
   "file_extension": ".py",
   "mimetype": "text/x-python",
   "name": "python",
   "nbconvert_exporter": "python",
   "pygments_lexer": "ipython3",
   "version": "3.10.11"
  }
 },
 "nbformat": 4,
 "nbformat_minor": 5
}
